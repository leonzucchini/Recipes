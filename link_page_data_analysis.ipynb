{
 "cells": [
  {
   "cell_type": "markdown",
   "metadata": {},
   "source": [
    "### Chefkoch link data - exploratory analysis\n",
    "\n",
    "This is a first attempt to look at some of the data resulting from the chefkoch link data (without getting fancy about graph databases). \n",
    "\n",
    "The first major result is that data quality is poor - suggesting I need to revisit the regexes."
   ]
  },
  {
   "cell_type": "code",
   "execution_count": 37,
   "metadata": {
    "collapsed": true
   },
   "outputs": [],
   "source": [
    "# Import libraries and define graphics preferences\n",
    "import pandas as pd\n",
    "import re\n",
    "import matplotlib.pyplot as plt\n",
    "%matplotlib inline"
   ]
  },
  {
   "cell_type": "code",
   "execution_count": 38,
   "metadata": {
    "collapsed": false
   },
   "outputs": [],
   "source": [
    "# Read data\n",
    "df = pd.read_csv(\"/Users/Leon/Documents/02_Research_Learning/Research/Recipes/03_Data/link_data.csv\",\n",
    "                index_col=0)"
   ]
  },
  {
   "cell_type": "code",
   "execution_count": 39,
   "metadata": {
    "collapsed": false
   },
   "outputs": [],
   "source": [
    "# Fix data formats\n",
    "df['activationdate'] = pd.to_datetime(df['activationdate']) # Well that was easy!\n",
    "df['difficulty'] = df['difficulty'].astype('category')\n",
    "\n",
    "# Fix data format for preparation time\n",
    "df['preptime'] = df['preptime'].astype('string')\n",
    "df['prep_mins'] = df['preptime'].apply(lambda x: x.replace(\" min.\", \"\")).astype('float64')\n",
    "\n",
    "# Fix data format for strings\n",
    "df['subtitle'] = df['subtitle'].astype('str') # These aren't working (for obscure reasons)\n",
    "df['title'] = df['title'].astype('str')\n",
    "# df.dtypes\n",
    "\n",
    "# Define additional variable for yearmonth (for plotting)\n",
    "df['yearmonth'] = df['activationdate'].map(lambda x: x.year*1000 + x.month)"
   ]
  },
  {
   "cell_type": "code",
   "execution_count": 40,
   "metadata": {
    "collapsed": false
   },
   "outputs": [
    {
     "data": {
      "text/plain": [
       "Index([u'activationdate', u'category', u'category_list_page', u'difficulty',\n",
       "       u'preptime', u'subtitle', u'title', u'url', u'votes_avg', u'votes_n',\n",
       "       u'prep_mins', u'yearmonth'],\n",
       "      dtype='object')"
      ]
     },
     "execution_count": 40,
     "metadata": {},
     "output_type": "execute_result"
    }
   ],
   "source": [
    "df.columns"
   ]
  },
  {
   "cell_type": "code",
   "execution_count": 41,
   "metadata": {
    "collapsed": false
   },
   "outputs": [
    {
     "data": {
      "text/plain": [
       "<matplotlib.axes._subplots.AxesSubplot at 0x1160a1850>"
      ]
     },
     "execution_count": 41,
     "metadata": {},
     "output_type": "execute_result"
    },
    {
     "data": {
      "image/png": "[encoded data removed]",
      "text/plain": [
       "<matplotlib.figure.Figure at 0x113497b90>"
      ]
     },
     "metadata": {},
     "output_type": "display_data"
    }
   ],
   "source": [
    "df['votes_avg'].plot.hist()"
   ]
  },
  {
   "cell_type": "code",
   "execution_count": 42,
   "metadata": {
    "collapsed": false
   },
   "outputs": [
    {
     "data": {
      "text/html": [
       "<div>\n",
       "<table border=\"1\" class=\"dataframe\">\n",
       "  <thead>\n",
       "    <tr style=\"text-align: right;\">\n",
       "      <th></th>\n",
       "      <th>activationdate</th>\n",
       "      <th>category</th>\n",
       "      <th>category_list_page</th>\n",
       "      <th>difficulty</th>\n",
       "      <th>preptime</th>\n",
       "      <th>subtitle</th>\n",
       "      <th>title</th>\n",
       "      <th>url</th>\n",
       "      <th>votes_avg</th>\n",
       "      <th>votes_n</th>\n",
       "      <th>prep_mins</th>\n",
       "      <th>yearmonth</th>\n",
       "    </tr>\n",
       "  </thead>\n",
       "  <tbody>\n",
       "    <tr>\n",
       "      <th>731571175843661</th>\n",
       "      <td>2007-06-04</td>\n",
       "      <td>Getraenke</td>\n",
       "      <td>www.chefkoch.de/rs/s0g102/Getraenke.html</td>\n",
       "      <td>normal</td>\n",
       "      <td>60 min.</td>\n",
       "      <td>Pflaumen (entsteint) im Entsafter 2 Stunden ko...</td>\n",
       "      <td>Pflaumenlikör</td>\n",
       "      <td>www.chefkoch.de/rezepte/731571175843661/Pflaum...</td>\n",
       "      <td>7</td>\n",
       "      <td>40</td>\n",
       "      <td>60.0</td>\n",
       "      <td>2007006</td>\n",
       "    </tr>\n",
       "    <tr>\n",
       "      <th>192111081587419</th>\n",
       "      <td>2004-10-04</td>\n",
       "      <td>Getraenke</td>\n",
       "      <td>www.chefkoch.de/rs/s0g102/Getraenke.html</td>\n",
       "      <td>simpel</td>\n",
       "      <td>30 min.</td>\n",
       "      <td>Brombeeren, Rotwein, Zucker, Vanillestange und...</td>\n",
       "      <td>Brombeerlikör gekocht</td>\n",
       "      <td>www.chefkoch.de/rezepte/192111081587419/Brombe...</td>\n",
       "      <td>6</td>\n",
       "      <td>151</td>\n",
       "      <td>30.0</td>\n",
       "      <td>2004010</td>\n",
       "    </tr>\n",
       "    <tr>\n",
       "      <th>1303271235391801</th>\n",
       "      <td>2009-02-23</td>\n",
       "      <td>Getraenke</td>\n",
       "      <td>www.chefkoch.de/rs/s0g102/Getraenke.html</td>\n",
       "      <td>simpel</td>\n",
       "      <td>30 min.</td>\n",
       "      <td>schmeckt wie flüssiges Marzipan</td>\n",
       "      <td>Engelchenlikör</td>\n",
       "      <td>www.chefkoch.de/rezepte/1303271235391801/Engel...</td>\n",
       "      <td>9</td>\n",
       "      <td>345</td>\n",
       "      <td>30.0</td>\n",
       "      <td>2009002</td>\n",
       "    </tr>\n",
       "    <tr>\n",
       "      <th>269951103727949</th>\n",
       "      <td>2004-12-22</td>\n",
       "      <td>Getraenke</td>\n",
       "      <td>www.chefkoch.de/rs/s0g102/Getraenke.html</td>\n",
       "      <td>simpel</td>\n",
       "      <td>30 min.</td>\n",
       "      <td>Die Holunderblüten am besten nach einer Schönw...</td>\n",
       "      <td>Erfrischender Holunderblütenlikör</td>\n",
       "      <td>www.chefkoch.de/rezepte/269951103727949/Erfris...</td>\n",
       "      <td>8</td>\n",
       "      <td>216</td>\n",
       "      <td>30.0</td>\n",
       "      <td>2004012</td>\n",
       "    </tr>\n",
       "    <tr>\n",
       "      <th>1048481209735028</th>\n",
       "      <td>2008-03-05</td>\n",
       "      <td>Getraenke</td>\n",
       "      <td>www.chefkoch.de/rs/s0g102/Getraenke.html</td>\n",
       "      <td>simpel</td>\n",
       "      <td>20 min.</td>\n",
       "      <td>diesmal heiß angesetzt</td>\n",
       "      <td>Erdbeerlikör</td>\n",
       "      <td>www.chefkoch.de/rezepte/1048481209735028/Erdbe...</td>\n",
       "      <td>6</td>\n",
       "      <td>33</td>\n",
       "      <td>20.0</td>\n",
       "      <td>2008003</td>\n",
       "    </tr>\n",
       "    <tr>\n",
       "      <th>510361146660274</th>\n",
       "      <td>2006-04-05</td>\n",
       "      <td>Getraenke</td>\n",
       "      <td>www.chefkoch.de/rs/s0g102/Getraenke.html</td>\n",
       "      <td>normal</td>\n",
       "      <td>30 min.</td>\n",
       "      <td>Zucker und Wasser kochen, bis die Flüssigkeit ...</td>\n",
       "      <td>Himbeer - Limes</td>\n",
       "      <td>www.chefkoch.de/rezepte/510361146660274/Himbee...</td>\n",
       "      <td>6</td>\n",
       "      <td>83</td>\n",
       "      <td>30.0</td>\n",
       "      <td>2006004</td>\n",
       "    </tr>\n",
       "    <tr>\n",
       "      <th>51231018085747</th>\n",
       "      <td>2002-08-05</td>\n",
       "      <td>Getraenke</td>\n",
       "      <td>www.chefkoch.de/rs/s0g102/Getraenke.html</td>\n",
       "      <td>simpel</td>\n",
       "      <td>20 min.</td>\n",
       "      <td>Von 3 Limetten die Schale abreiben. 100 ml Saf...</td>\n",
       "      <td>Caipirinha-Bowle</td>\n",
       "      <td>www.chefkoch.de/rezepte/51231018085747/Caipiri...</td>\n",
       "      <td>8</td>\n",
       "      <td>844</td>\n",
       "      <td>20.0</td>\n",
       "      <td>2002008</td>\n",
       "    </tr>\n",
       "    <tr>\n",
       "      <th>1393141244283554</th>\n",
       "      <td>2009-07-06</td>\n",
       "      <td>Getraenke</td>\n",
       "      <td>www.chefkoch.de/rs/s0g102/Getraenke.html</td>\n",
       "      <td>simpel</td>\n",
       "      <td>10 min.</td>\n",
       "      <td>Die Dosenfrüchte abtropfen lassen, der Saft ka...</td>\n",
       "      <td>Titanic Bowle</td>\n",
       "      <td>www.chefkoch.de/rezepte/1393141244283554/Titan...</td>\n",
       "      <td>7</td>\n",
       "      <td>25</td>\n",
       "      <td>10.0</td>\n",
       "      <td>2009007</td>\n",
       "    </tr>\n",
       "    <tr>\n",
       "      <th>1352881240037873</th>\n",
       "      <td>2009-04-18</td>\n",
       "      <td>Getraenke</td>\n",
       "      <td>www.chefkoch.de/rs/s0g102/Getraenke.html</td>\n",
       "      <td>simpel</td>\n",
       "      <td>5 min.</td>\n",
       "      <td>alkoholfreier Cocktail - erfrischend und super...</td>\n",
       "      <td>Ipanema</td>\n",
       "      <td>www.chefkoch.de/rezepte/1352881240037873/Ipane...</td>\n",
       "      <td>8</td>\n",
       "      <td>73</td>\n",
       "      <td>5.0</td>\n",
       "      <td>2009004</td>\n",
       "    </tr>\n",
       "    <tr>\n",
       "      <th>379121124223711</th>\n",
       "      <td>2005-08-17</td>\n",
       "      <td>Getraenke</td>\n",
       "      <td>www.chefkoch.de/rs/s0g102/Getraenke.html</td>\n",
       "      <td>simpel</td>\n",
       "      <td>20 min.</td>\n",
       "      <td>Ein Sommergetränk für Freunde von Obst</td>\n",
       "      <td>Paradies - Bowle</td>\n",
       "      <td>www.chefkoch.de/rezepte/379121124223711/Paradi...</td>\n",
       "      <td>7</td>\n",
       "      <td>25</td>\n",
       "      <td>20.0</td>\n",
       "      <td>2005008</td>\n",
       "    </tr>\n",
       "  </tbody>\n",
       "</table>\n",
       "</div>"
      ],
      "text/plain": [
       "                 activationdate   category  \\\n",
       "731571175843661      2007-06-04  Getraenke   \n",
       "192111081587419      2004-10-04  Getraenke   \n",
       "1303271235391801     2009-02-23  Getraenke   \n",
       "269951103727949      2004-12-22  Getraenke   \n",
       "1048481209735028     2008-03-05  Getraenke   \n",
       "510361146660274      2006-04-05  Getraenke   \n",
       "51231018085747       2002-08-05  Getraenke   \n",
       "1393141244283554     2009-07-06  Getraenke   \n",
       "1352881240037873     2009-04-18  Getraenke   \n",
       "379121124223711      2005-08-17  Getraenke   \n",
       "\n",
       "                                        category_list_page difficulty  \\\n",
       "731571175843661   www.chefkoch.de/rs/s0g102/Getraenke.html     normal   \n",
       "192111081587419   www.chefkoch.de/rs/s0g102/Getraenke.html     simpel   \n",
       "1303271235391801  www.chefkoch.de/rs/s0g102/Getraenke.html     simpel   \n",
       "269951103727949   www.chefkoch.de/rs/s0g102/Getraenke.html     simpel   \n",
       "1048481209735028  www.chefkoch.de/rs/s0g102/Getraenke.html     simpel   \n",
       "510361146660274   www.chefkoch.de/rs/s0g102/Getraenke.html     normal   \n",
       "51231018085747    www.chefkoch.de/rs/s0g102/Getraenke.html     simpel   \n",
       "1393141244283554  www.chefkoch.de/rs/s0g102/Getraenke.html     simpel   \n",
       "1352881240037873  www.chefkoch.de/rs/s0g102/Getraenke.html     simpel   \n",
       "379121124223711   www.chefkoch.de/rs/s0g102/Getraenke.html     simpel   \n",
       "\n",
       "                 preptime                                           subtitle  \\\n",
       "731571175843661   60 min.  Pflaumen (entsteint) im Entsafter 2 Stunden ko...   \n",
       "192111081587419   30 min.  Brombeeren, Rotwein, Zucker, Vanillestange und...   \n",
       "1303271235391801  30 min.                    schmeckt wie flüssiges Marzipan   \n",
       "269951103727949   30 min.  Die Holunderblüten am besten nach einer Schönw...   \n",
       "1048481209735028  20 min.                             diesmal heiß angesetzt   \n",
       "510361146660274   30 min.  Zucker und Wasser kochen, bis die Flüssigkeit ...   \n",
       "51231018085747    20 min.  Von 3 Limetten die Schale abreiben. 100 ml Saf...   \n",
       "1393141244283554  10 min.  Die Dosenfrüchte abtropfen lassen, der Saft ka...   \n",
       "1352881240037873   5 min.  alkoholfreier Cocktail - erfrischend und super...   \n",
       "379121124223711   20 min.             Ein Sommergetränk für Freunde von Obst   \n",
       "\n",
       "                                              title  \\\n",
       "731571175843661                       Pflaumenlikör   \n",
       "192111081587419               Brombeerlikör gekocht   \n",
       "1303271235391801                     Engelchenlikör   \n",
       "269951103727949   Erfrischender Holunderblütenlikör   \n",
       "1048481209735028                       Erdbeerlikör   \n",
       "510361146660274                     Himbeer - Limes   \n",
       "51231018085747                     Caipirinha-Bowle   \n",
       "1393141244283554                      Titanic Bowle   \n",
       "1352881240037873                            Ipanema   \n",
       "379121124223711                    Paradies - Bowle   \n",
       "\n",
       "                                                                url  \\\n",
       "731571175843661   www.chefkoch.de/rezepte/731571175843661/Pflaum...   \n",
       "192111081587419   www.chefkoch.de/rezepte/192111081587419/Brombe...   \n",
       "1303271235391801  www.chefkoch.de/rezepte/1303271235391801/Engel...   \n",
       "269951103727949   www.chefkoch.de/rezepte/269951103727949/Erfris...   \n",
       "1048481209735028  www.chefkoch.de/rezepte/1048481209735028/Erdbe...   \n",
       "510361146660274   www.chefkoch.de/rezepte/510361146660274/Himbee...   \n",
       "51231018085747    www.chefkoch.de/rezepte/51231018085747/Caipiri...   \n",
       "1393141244283554  www.chefkoch.de/rezepte/1393141244283554/Titan...   \n",
       "1352881240037873  www.chefkoch.de/rezepte/1352881240037873/Ipane...   \n",
       "379121124223711   www.chefkoch.de/rezepte/379121124223711/Paradi...   \n",
       "\n",
       "                  votes_avg  votes_n  prep_mins  yearmonth  \n",
       "731571175843661           7       40       60.0    2007006  \n",
       "192111081587419           6      151       30.0    2004010  \n",
       "1303271235391801          9      345       30.0    2009002  \n",
       "269951103727949           8      216       30.0    2004012  \n",
       "1048481209735028          6       33       20.0    2008003  \n",
       "510361146660274           6       83       30.0    2006004  \n",
       "51231018085747            8      844       20.0    2002008  \n",
       "1393141244283554          7       25       10.0    2009007  \n",
       "1352881240037873          8       73        5.0    2009004  \n",
       "379121124223711           7       25       20.0    2005008  "
      ]
     },
     "execution_count": 42,
     "metadata": {},
     "output_type": "execute_result"
    }
   ],
   "source": [
    "df[df['votes_avg']>5]"
   ]
  },
  {
   "cell_type": "code",
   "execution_count": null,
   "metadata": {
    "collapsed": true
   },
   "outputs": [],
   "source": []
  }
 ],
 "metadata": {
  "anaconda-cloud": {},
  "kernelspec": {
   "display_name": "Python [conda root]",
   "language": "python",
   "name": "conda-root-py"
  },
  "language_info": {
   "codemirror_mode": {
    "name": "ipython",
    "version": 2
   },
   "file_extension": ".py",
   "mimetype": "text/x-python",
   "name": "python",
   "nbconvert_exporter": "python",
   "pygments_lexer": "ipython2",
   "version": "2.7.12"
  }
 },
 "nbformat": 4,
 "nbformat_minor": 1
}
